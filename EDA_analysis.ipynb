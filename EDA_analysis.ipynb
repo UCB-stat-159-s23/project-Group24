{
 "cells": [
  {
   "cell_type": "markdown",
   "id": "cce507cf-9909-4d70-bda4-f5d324da5f4d",
   "metadata": {
    "user_expressions": []
   },
   "source": [
    "## COVID-19 US Community Mobility Trends Analysis\n",
    "\n",
    "In this project, we will explore how the COVID-19 pandemic has impacted mobility trends in the United States from 2020 to 2022, including changes in the number of visits to various types of locations (e.g. retail and recreation, grocery stores and pharmacies, parks, transit stations, workplaces, and residential areas).\n"
   ]
  },
  {
   "cell_type": "code",
   "execution_count": 1,
   "id": "2bafda43-dfef-4de6-a7fc-74ad0d40f994",
   "metadata": {},
   "outputs": [],
   "source": [
    "import numpy as np\n",
    "import pandas as pd\n",
    "import matplotlib.pyplot as plt\n",
    "import seaborn as sns"
   ]
  },
  {
   "cell_type": "markdown",
   "id": "5e1e9ec2-eb60-4e12-ae0a-a4f4fb6c92e5",
   "metadata": {
    "user_expressions": []
   },
   "source": [
    "### Load the data"
   ]
  },
  {
   "cell_type": "code",
   "execution_count": 2,
   "id": "08ab0535-6676-4577-931e-8f01abc22ad9",
   "metadata": {},
   "outputs": [],
   "source": [
    "US_2020 = pd.read_csv('data/2020_US_Region_Mobility_Report.csv', low_memory=False)\n",
    "US_2021 = pd.read_csv('data/2021_US_Region_Mobility_Report.csv', low_memory=False)\n",
    "US_2022 = pd.read_csv('data/2022_US_Region_Mobility_Report.csv', low_memory=False)"
   ]
  },
  {
   "cell_type": "markdown",
   "id": "fbec6515-0ac9-409a-aa46-b3a7c1b4f442",
   "metadata": {
    "user_expressions": []
   },
   "source": [
    "Concatenate three dataframes "
   ]
  },
  {
   "cell_type": "code",
   "execution_count": 3,
   "id": "906fabc2-e1bf-4d78-a992-636bf53a71e3",
   "metadata": {},
   "outputs": [
    {
     "data": {
      "text/html": [
       "<div>\n",
       "<style scoped>\n",
       "    .dataframe tbody tr th:only-of-type {\n",
       "        vertical-align: middle;\n",
       "    }\n",
       "\n",
       "    .dataframe tbody tr th {\n",
       "        vertical-align: top;\n",
       "    }\n",
       "\n",
       "    .dataframe thead th {\n",
       "        text-align: right;\n",
       "    }\n",
       "</style>\n",
       "<table border=\"1\" class=\"dataframe\">\n",
       "  <thead>\n",
       "    <tr style=\"text-align: right;\">\n",
       "      <th></th>\n",
       "      <th>country_region_code</th>\n",
       "      <th>country_region</th>\n",
       "      <th>sub_region_1</th>\n",
       "      <th>sub_region_2</th>\n",
       "      <th>metro_area</th>\n",
       "      <th>iso_3166_2_code</th>\n",
       "      <th>census_fips_code</th>\n",
       "      <th>place_id</th>\n",
       "      <th>date</th>\n",
       "      <th>retail_and_recreation_percent_change_from_baseline</th>\n",
       "      <th>grocery_and_pharmacy_percent_change_from_baseline</th>\n",
       "      <th>parks_percent_change_from_baseline</th>\n",
       "      <th>transit_stations_percent_change_from_baseline</th>\n",
       "      <th>workplaces_percent_change_from_baseline</th>\n",
       "      <th>residential_percent_change_from_baseline</th>\n",
       "    </tr>\n",
       "  </thead>\n",
       "  <tbody>\n",
       "    <tr>\n",
       "      <th>89718</th>\n",
       "      <td>US</td>\n",
       "      <td>United States</td>\n",
       "      <td>Florida</td>\n",
       "      <td>Escambia County</td>\n",
       "      <td>NaN</td>\n",
       "      <td>NaN</td>\n",
       "      <td>12033.0</td>\n",
       "      <td>ChIJseTBcm1lkIgRNUELOhQhLts</td>\n",
       "      <td>2020-12-01</td>\n",
       "      <td>-9.0</td>\n",
       "      <td>1.0</td>\n",
       "      <td>-24.0</td>\n",
       "      <td>-32.0</td>\n",
       "      <td>-23.0</td>\n",
       "      <td>6.0</td>\n",
       "    </tr>\n",
       "    <tr>\n",
       "      <th>868338</th>\n",
       "      <td>US</td>\n",
       "      <td>United States</td>\n",
       "      <td>Arkansas</td>\n",
       "      <td>Yell County</td>\n",
       "      <td>NaN</td>\n",
       "      <td>NaN</td>\n",
       "      <td>5149.0</td>\n",
       "      <td>ChIJKWW2vMtHzIcRvqHbsk-N0uo</td>\n",
       "      <td>2021-06-16</td>\n",
       "      <td>NaN</td>\n",
       "      <td>NaN</td>\n",
       "      <td>NaN</td>\n",
       "      <td>NaN</td>\n",
       "      <td>-28.0</td>\n",
       "      <td>NaN</td>\n",
       "    </tr>\n",
       "    <tr>\n",
       "      <th>949099</th>\n",
       "      <td>US</td>\n",
       "      <td>United States</td>\n",
       "      <td>Georgia</td>\n",
       "      <td>DeKalb County</td>\n",
       "      <td>NaN</td>\n",
       "      <td>NaN</td>\n",
       "      <td>13089.0</td>\n",
       "      <td>ChIJW8Aub0YI9YgRR06nEDs3MzE</td>\n",
       "      <td>2021-04-30</td>\n",
       "      <td>-18.0</td>\n",
       "      <td>-6.0</td>\n",
       "      <td>61.0</td>\n",
       "      <td>-36.0</td>\n",
       "      <td>-37.0</td>\n",
       "      <td>7.0</td>\n",
       "    </tr>\n",
       "    <tr>\n",
       "      <th>41972</th>\n",
       "      <td>US</td>\n",
       "      <td>United States</td>\n",
       "      <td>Arkansas</td>\n",
       "      <td>Ouachita County</td>\n",
       "      <td>NaN</td>\n",
       "      <td>NaN</td>\n",
       "      <td>5103.0</td>\n",
       "      <td>ChIJK2Xfwq9cMoYRyi1XGpZpSa0</td>\n",
       "      <td>2020-11-24</td>\n",
       "      <td>NaN</td>\n",
       "      <td>NaN</td>\n",
       "      <td>NaN</td>\n",
       "      <td>NaN</td>\n",
       "      <td>-27.0</td>\n",
       "      <td>5.0</td>\n",
       "    </tr>\n",
       "    <tr>\n",
       "      <th>2502357</th>\n",
       "      <td>US</td>\n",
       "      <td>United States</td>\n",
       "      <td>Wisconsin</td>\n",
       "      <td>Shawano County</td>\n",
       "      <td>NaN</td>\n",
       "      <td>NaN</td>\n",
       "      <td>55115.0</td>\n",
       "      <td>ChIJ_WPnaD71AYgRySeagRoUn_4</td>\n",
       "      <td>2022-04-29</td>\n",
       "      <td>8.0</td>\n",
       "      <td>16.0</td>\n",
       "      <td>NaN</td>\n",
       "      <td>NaN</td>\n",
       "      <td>-8.0</td>\n",
       "      <td>3.0</td>\n",
       "    </tr>\n",
       "  </tbody>\n",
       "</table>\n",
       "</div>"
      ],
      "text/plain": [
       "        country_region_code country_region sub_region_1     sub_region_2  \\\n",
       "89718                    US  United States      Florida  Escambia County   \n",
       "868338                   US  United States     Arkansas      Yell County   \n",
       "949099                   US  United States      Georgia    DeKalb County   \n",
       "41972                    US  United States     Arkansas  Ouachita County   \n",
       "2502357                  US  United States    Wisconsin   Shawano County   \n",
       "\n",
       "         metro_area iso_3166_2_code  census_fips_code  \\\n",
       "89718           NaN             NaN           12033.0   \n",
       "868338          NaN             NaN            5149.0   \n",
       "949099          NaN             NaN           13089.0   \n",
       "41972           NaN             NaN            5103.0   \n",
       "2502357         NaN             NaN           55115.0   \n",
       "\n",
       "                            place_id        date  \\\n",
       "89718    ChIJseTBcm1lkIgRNUELOhQhLts  2020-12-01   \n",
       "868338   ChIJKWW2vMtHzIcRvqHbsk-N0uo  2021-06-16   \n",
       "949099   ChIJW8Aub0YI9YgRR06nEDs3MzE  2021-04-30   \n",
       "41972    ChIJK2Xfwq9cMoYRyi1XGpZpSa0  2020-11-24   \n",
       "2502357  ChIJ_WPnaD71AYgRySeagRoUn_4  2022-04-29   \n",
       "\n",
       "         retail_and_recreation_percent_change_from_baseline  \\\n",
       "89718                                                 -9.0    \n",
       "868338                                                 NaN    \n",
       "949099                                               -18.0    \n",
       "41972                                                  NaN    \n",
       "2502357                                                8.0    \n",
       "\n",
       "         grocery_and_pharmacy_percent_change_from_baseline  \\\n",
       "89718                                                  1.0   \n",
       "868338                                                 NaN   \n",
       "949099                                                -6.0   \n",
       "41972                                                  NaN   \n",
       "2502357                                               16.0   \n",
       "\n",
       "         parks_percent_change_from_baseline  \\\n",
       "89718                                 -24.0   \n",
       "868338                                  NaN   \n",
       "949099                                 61.0   \n",
       "41972                                   NaN   \n",
       "2502357                                 NaN   \n",
       "\n",
       "         transit_stations_percent_change_from_baseline  \\\n",
       "89718                                            -32.0   \n",
       "868338                                             NaN   \n",
       "949099                                           -36.0   \n",
       "41972                                              NaN   \n",
       "2502357                                            NaN   \n",
       "\n",
       "         workplaces_percent_change_from_baseline  \\\n",
       "89718                                      -23.0   \n",
       "868338                                     -28.0   \n",
       "949099                                     -37.0   \n",
       "41972                                      -27.0   \n",
       "2502357                                     -8.0   \n",
       "\n",
       "         residential_percent_change_from_baseline  \n",
       "89718                                         6.0  \n",
       "868338                                        NaN  \n",
       "949099                                        7.0  \n",
       "41972                                         5.0  \n",
       "2502357                                       3.0  "
      ]
     },
     "execution_count": 3,
     "metadata": {},
     "output_type": "execute_result"
    }
   ],
   "source": [
    "US_Mobility = pd.concat([US_2020, US_2021, US_2022], ignore_index=True)\n",
    "\n",
    "US_Mobility.sample(5)"
   ]
  },
  {
   "cell_type": "code",
   "execution_count": 4,
   "id": "1d7b4e7f-24f1-4be3-a66c-ef0ab84288ea",
   "metadata": {},
   "outputs": [
    {
     "name": "stdout",
     "output_type": "stream",
     "text": [
      "<class 'pandas.core.frame.DataFrame'>\n",
      "RangeIndex: 2511994 entries, 0 to 2511993\n",
      "Data columns (total 15 columns):\n",
      " #   Column                                              Dtype  \n",
      "---  ------                                              -----  \n",
      " 0   country_region_code                                 object \n",
      " 1   country_region                                      object \n",
      " 2   sub_region_1                                        object \n",
      " 3   sub_region_2                                        object \n",
      " 4   metro_area                                          float64\n",
      " 5   iso_3166_2_code                                     object \n",
      " 6   census_fips_code                                    float64\n",
      " 7   place_id                                            object \n",
      " 8   date                                                object \n",
      " 9   retail_and_recreation_percent_change_from_baseline  float64\n",
      " 10  grocery_and_pharmacy_percent_change_from_baseline   float64\n",
      " 11  parks_percent_change_from_baseline                  float64\n",
      " 12  transit_stations_percent_change_from_baseline       float64\n",
      " 13  workplaces_percent_change_from_baseline             float64\n",
      " 14  residential_percent_change_from_baseline            float64\n",
      "dtypes: float64(8), object(7)\n",
      "memory usage: 287.5+ MB\n"
     ]
    }
   ],
   "source": [
    "US_Mobility.info()"
   ]
  },
  {
   "cell_type": "markdown",
   "id": "adad22f8-9d1e-423d-b553-950673db0d67",
   "metadata": {
    "user_expressions": []
   },
   "source": [
    "rename columns and select relevant columns"
   ]
  },
  {
   "cell_type": "code",
   "execution_count": 5,
   "id": "7f15d57c-52db-4e7f-8514-317c5787744d",
   "metadata": {},
   "outputs": [],
   "source": [
    "# rename columns\n",
    "US_Mobility = US_Mobility.rename(columns = {'sub_region_1': 'state',\n",
    "                                            'sub_region_2': 'county',\n",
    "                                            'retail_and_recreation_percent_change_from_baseline': 'retail_and_recreation',\n",
    "                                            'grocery_and_pharmacy_percent_change_from_baseline':'grocery_and_pharmacy',\n",
    "                                            'parks_percent_change_from_baseline':'parks',\n",
    "                                            'transit_stations_percent_change_from_baseline':'transit_stations',\n",
    "                                            'workplaces_percent_change_from_baseline':'workplaces',\n",
    "                                            'residential_percent_change_from_baseline':'residential'} )"
   ]
  },
  {
   "cell_type": "code",
   "execution_count": 6,
   "id": "31e61cc2-73c8-447a-bda3-09a493b44511",
   "metadata": {},
   "outputs": [
    {
     "data": {
      "text/html": [
       "<div>\n",
       "<style scoped>\n",
       "    .dataframe tbody tr th:only-of-type {\n",
       "        vertical-align: middle;\n",
       "    }\n",
       "\n",
       "    .dataframe tbody tr th {\n",
       "        vertical-align: top;\n",
       "    }\n",
       "\n",
       "    .dataframe thead th {\n",
       "        text-align: right;\n",
       "    }\n",
       "</style>\n",
       "<table border=\"1\" class=\"dataframe\">\n",
       "  <thead>\n",
       "    <tr style=\"text-align: right;\">\n",
       "      <th></th>\n",
       "      <th>state</th>\n",
       "      <th>county</th>\n",
       "      <th>date</th>\n",
       "      <th>retail_and_recreation</th>\n",
       "      <th>grocery_and_pharmacy</th>\n",
       "      <th>parks</th>\n",
       "      <th>transit_stations</th>\n",
       "      <th>workplaces</th>\n",
       "      <th>residential</th>\n",
       "    </tr>\n",
       "  </thead>\n",
       "  <tbody>\n",
       "    <tr>\n",
       "      <th>722192</th>\n",
       "      <td>Vermont</td>\n",
       "      <td>Washington County</td>\n",
       "      <td>2020-10-01</td>\n",
       "      <td>-8.0</td>\n",
       "      <td>25.0</td>\n",
       "      <td>NaN</td>\n",
       "      <td>NaN</td>\n",
       "      <td>-29.0</td>\n",
       "      <td>6.0</td>\n",
       "    </tr>\n",
       "    <tr>\n",
       "      <th>2112495</th>\n",
       "      <td>Mississippi</td>\n",
       "      <td>Jefferson Davis County</td>\n",
       "      <td>2022-01-24</td>\n",
       "      <td>NaN</td>\n",
       "      <td>NaN</td>\n",
       "      <td>NaN</td>\n",
       "      <td>NaN</td>\n",
       "      <td>-6.0</td>\n",
       "      <td>NaN</td>\n",
       "    </tr>\n",
       "    <tr>\n",
       "      <th>641410</th>\n",
       "      <td>Tennessee</td>\n",
       "      <td>McNairy County</td>\n",
       "      <td>2020-03-12</td>\n",
       "      <td>14.0</td>\n",
       "      <td>32.0</td>\n",
       "      <td>NaN</td>\n",
       "      <td>NaN</td>\n",
       "      <td>-3.0</td>\n",
       "      <td>NaN</td>\n",
       "    </tr>\n",
       "    <tr>\n",
       "      <th>870958</th>\n",
       "      <td>California</td>\n",
       "      <td>Contra Costa County</td>\n",
       "      <td>2021-08-20</td>\n",
       "      <td>-18.0</td>\n",
       "      <td>-6.0</td>\n",
       "      <td>-11.0</td>\n",
       "      <td>-44.0</td>\n",
       "      <td>-37.0</td>\n",
       "      <td>9.0</td>\n",
       "    </tr>\n",
       "    <tr>\n",
       "      <th>1353090</th>\n",
       "      <td>New Mexico</td>\n",
       "      <td>Hidalgo County</td>\n",
       "      <td>2021-10-06</td>\n",
       "      <td>NaN</td>\n",
       "      <td>NaN</td>\n",
       "      <td>NaN</td>\n",
       "      <td>12.0</td>\n",
       "      <td>NaN</td>\n",
       "      <td>NaN</td>\n",
       "    </tr>\n",
       "  </tbody>\n",
       "</table>\n",
       "</div>"
      ],
      "text/plain": [
       "               state                  county        date  \\\n",
       "722192       Vermont       Washington County  2020-10-01   \n",
       "2112495  Mississippi  Jefferson Davis County  2022-01-24   \n",
       "641410     Tennessee          McNairy County  2020-03-12   \n",
       "870958    California     Contra Costa County  2021-08-20   \n",
       "1353090   New Mexico          Hidalgo County  2021-10-06   \n",
       "\n",
       "         retail_and_recreation  grocery_and_pharmacy  parks  transit_stations  \\\n",
       "722192                    -8.0                  25.0    NaN               NaN   \n",
       "2112495                    NaN                   NaN    NaN               NaN   \n",
       "641410                    14.0                  32.0    NaN               NaN   \n",
       "870958                   -18.0                  -6.0  -11.0             -44.0   \n",
       "1353090                    NaN                   NaN    NaN              12.0   \n",
       "\n",
       "         workplaces  residential  \n",
       "722192        -29.0          6.0  \n",
       "2112495        -6.0          NaN  \n",
       "641410         -3.0          NaN  \n",
       "870958        -37.0          9.0  \n",
       "1353090         NaN          NaN  "
      ]
     },
     "execution_count": 6,
     "metadata": {},
     "output_type": "execute_result"
    }
   ],
   "source": [
    "columns = ['state',\n",
    "           'county',\n",
    "           'date',\n",
    "           'retail_and_recreation', \n",
    "           'grocery_and_pharmacy', \n",
    "           'parks',\n",
    "           'transit_stations', \n",
    "           'workplaces', \n",
    "           'residential']\n",
    "US_Mobility = US_Mobility[columns]\n",
    "\n",
    "US_Mobility.sample(5)"
   ]
  },
  {
   "cell_type": "code",
   "execution_count": 7,
   "id": "2caeec7d-aa7d-44b1-84f5-490262591a98",
   "metadata": {},
   "outputs": [
    {
     "data": {
      "text/plain": [
       "0          2020-02\n",
       "1          2020-02\n",
       "2          2020-02\n",
       "3          2020-02\n",
       "4          2020-02\n",
       "            ...   \n",
       "2511989    2022-10\n",
       "2511990    2022-10\n",
       "2511991    2022-10\n",
       "2511992    2022-10\n",
       "2511993    2022-10\n",
       "Name: year_month, Length: 2511994, dtype: object"
      ]
     },
     "execution_count": 7,
     "metadata": {},
     "output_type": "execute_result"
    }
   ],
   "source": [
    "US_Mobility['year_month'] = US_Mobility['date'].str.rsplit('-', n=1, expand=True).drop(columns=1, axis=1)\n",
    "US_Mobility['year_month']"
   ]
  },
  {
   "cell_type": "markdown",
   "id": "ff805662-16b2-4882-8cbb-346ac7d46e0d",
   "metadata": {
    "user_expressions": []
   },
   "source": [
    "### Group data by year and month"
   ]
  },
  {
   "cell_type": "code",
   "execution_count": 15,
   "id": "cd20e023-87b3-4513-86e4-db39feb80fe9",
   "metadata": {},
   "outputs": [
    {
     "data": {
      "text/html": [
       "<div>\n",
       "<style scoped>\n",
       "    .dataframe tbody tr th:only-of-type {\n",
       "        vertical-align: middle;\n",
       "    }\n",
       "\n",
       "    .dataframe tbody tr th {\n",
       "        vertical-align: top;\n",
       "    }\n",
       "\n",
       "    .dataframe thead th {\n",
       "        text-align: right;\n",
       "    }\n",
       "</style>\n",
       "<table border=\"1\" class=\"dataframe\">\n",
       "  <thead>\n",
       "    <tr style=\"text-align: right;\">\n",
       "      <th></th>\n",
       "      <th>year_month</th>\n",
       "      <th>retail_and_recreation</th>\n",
       "      <th>grocery_and_pharmacy</th>\n",
       "      <th>parks</th>\n",
       "      <th>transit_stations</th>\n",
       "      <th>workplaces</th>\n",
       "      <th>residential</th>\n",
       "    </tr>\n",
       "  </thead>\n",
       "  <tbody>\n",
       "    <tr>\n",
       "      <th>0</th>\n",
       "      <td>2020-02</td>\n",
       "      <td>6.145196</td>\n",
       "      <td>2.103233</td>\n",
       "      <td>14.454504</td>\n",
       "      <td>4.253531</td>\n",
       "      <td>-0.086161</td>\n",
       "      <td>0.232813</td>\n",
       "    </tr>\n",
       "    <tr>\n",
       "      <th>1</th>\n",
       "      <td>2020-03</td>\n",
       "      <td>-10.379869</td>\n",
       "      <td>5.360028</td>\n",
       "      <td>14.432377</td>\n",
       "      <td>-8.988731</td>\n",
       "      <td>-14.747643</td>\n",
       "      <td>6.571577</td>\n",
       "    </tr>\n",
       "    <tr>\n",
       "      <th>2</th>\n",
       "      <td>2020-04</td>\n",
       "      <td>-34.688613</td>\n",
       "      <td>-9.515706</td>\n",
       "      <td>1.069038</td>\n",
       "      <td>-31.144862</td>\n",
       "      <td>-37.378917</td>\n",
       "      <td>16.550969</td>\n",
       "    </tr>\n",
       "    <tr>\n",
       "      <th>3</th>\n",
       "      <td>2020-05</td>\n",
       "      <td>-15.271136</td>\n",
       "      <td>2.834255</td>\n",
       "      <td>38.376006</td>\n",
       "      <td>-16.831389</td>\n",
       "      <td>-28.982362</td>\n",
       "      <td>11.671517</td>\n",
       "    </tr>\n",
       "    <tr>\n",
       "      <th>4</th>\n",
       "      <td>2020-06</td>\n",
       "      <td>-3.024183</td>\n",
       "      <td>7.141806</td>\n",
       "      <td>68.486314</td>\n",
       "      <td>-5.046891</td>\n",
       "      <td>-22.866399</td>\n",
       "      <td>7.511058</td>\n",
       "    </tr>\n",
       "  </tbody>\n",
       "</table>\n",
       "</div>"
      ],
      "text/plain": [
       "  year_month  retail_and_recreation  grocery_and_pharmacy      parks  \\\n",
       "0    2020-02               6.145196              2.103233  14.454504   \n",
       "1    2020-03             -10.379869              5.360028  14.432377   \n",
       "2    2020-04             -34.688613             -9.515706   1.069038   \n",
       "3    2020-05             -15.271136              2.834255  38.376006   \n",
       "4    2020-06              -3.024183              7.141806  68.486314   \n",
       "\n",
       "   transit_stations  workplaces  residential  \n",
       "0          4.253531   -0.086161     0.232813  \n",
       "1         -8.988731  -14.747643     6.571577  \n",
       "2        -31.144862  -37.378917    16.550969  \n",
       "3        -16.831389  -28.982362    11.671517  \n",
       "4         -5.046891  -22.866399     7.511058  "
      ]
     },
     "execution_count": 15,
     "metadata": {},
     "output_type": "execute_result"
    }
   ],
   "source": [
    "groupby_data = US_Mobility.groupby('year_month').mean(numeric_only=True).reset_index()\n",
    "groupby_data.head()"
   ]
  },
  {
   "cell_type": "markdown",
   "id": "57d2f7e7-8849-413b-9d6e-2ea01f867176",
   "metadata": {
    "user_expressions": []
   },
   "source": [
    "### Grocery & pharmacy\n",
    "\n",
    "Explore the mobility trends for places like grocery markets, food warehouses, farmers markets, specialty food shops, drug stores, and pharmacies."
   ]
  },
  {
   "cell_type": "code",
   "execution_count": 25,
   "id": "edc3e71f-2438-43d5-9917-06b5ce3cad74",
   "metadata": {},
   "outputs": [
    {
     "data": {
      "image/png": "[encoded data removed]",
      "text/plain": [
       "<Figure size 1200x400 with 1 Axes>"
      ]
     },
     "metadata": {},
     "output_type": "display_data"
    }
   ],
   "source": [
    "fig, ax = plt.subplots(figsize=(12,4))\n",
    "sns.lineplot(data=groupby_data, x='year_month', y='retail_and_recreation')\n",
    "ax.axhline(y=0, linestyle='dashed', color='orange')\n",
    "plt.xticks(rotation=90)\n",
    "plt.title('retail and recreation percent change from baseline')\n",
    "plt.savefig('figures/retail_and_recreation_percent_change_from_baseline.png');"
   ]
  },
  {
   "cell_type": "markdown",
   "id": "ba9b2e23-206a-426d-906e-9a136aa730bc",
   "metadata": {
    "user_expressions": []
   },
   "source": [
    "### Parks\n",
    "Explore the mobility trends for places like local parks, national parks, public beaches, marinas, dog parks, plazas, and public gardens."
   ]
  },
  {
   "cell_type": "markdown",
   "id": "8ceacb27-fd2e-408a-8655-9ffbfb7bb44e",
   "metadata": {
    "user_expressions": []
   },
   "source": [
    "### Transit stations\n",
    "Explore the mobility trends for places like public transport hubs such as subway, bus, and train stations."
   ]
  },
  {
   "cell_type": "markdown",
   "id": "4aa23bb4-488a-4e57-90b4-ac83d5937f76",
   "metadata": {
    "user_expressions": []
   },
   "source": [
    "### Retail & recreation\n",
    "Explore the mobility trends for places like restaurants, cafes, shopping centers, theme parks, museums, libraries, and movie theaters."
   ]
  },
  {
   "cell_type": "markdown",
   "id": "b81693b1-0dae-4f08-ac3a-52081dced32b",
   "metadata": {
    "user_expressions": []
   },
   "source": [
    "### Residential\n",
    "Explore the mobility trends for places of residence."
   ]
  },
  {
   "cell_type": "markdown",
   "id": "28afe001-0087-4d41-a80f-f9008b2482e6",
   "metadata": {
    "user_expressions": []
   },
   "source": [
    "### Workplaces\n",
    "Explore the mobility trends for places of work."
   ]
  },
  {
   "cell_type": "code",
   "execution_count": null,
   "id": "67da88d6-979c-4f3d-bc83-164fef31abb5",
   "metadata": {},
   "outputs": [],
   "source": []
  },
  {
   "cell_type": "code",
   "execution_count": null,
   "id": "7f0f8c12-0449-4b4e-98fd-84bd9a18bd96",
   "metadata": {},
   "outputs": [],
   "source": []
  },
  {
   "cell_type": "code",
   "execution_count": null,
   "id": "1376d968-9df2-4d36-908b-2bc367f2b7d6",
   "metadata": {},
   "outputs": [],
   "source": []
  },
  {
   "cell_type": "code",
   "execution_count": null,
   "id": "0592707e-2ab7-443a-8bb1-940fb340bc6e",
   "metadata": {},
   "outputs": [],
   "source": []
  },
  {
   "cell_type": "code",
   "execution_count": null,
   "id": "66988ade-7841-4f8f-88e9-fc570a56596d",
   "metadata": {},
   "outputs": [],
   "source": []
  },
  {
   "cell_type": "code",
   "execution_count": null,
   "id": "38279270-7aa6-4709-8888-73f7da0ddde1",
   "metadata": {},
   "outputs": [],
   "source": []
  },
  {
   "cell_type": "code",
   "execution_count": null,
   "id": "7918061e-8980-4f48-bf41-add06c98bcd2",
   "metadata": {},
   "outputs": [],
   "source": []
  },
  {
   "cell_type": "code",
   "execution_count": null,
   "id": "305b92cc-9a2d-456a-a746-ffecd25d086a",
   "metadata": {},
   "outputs": [],
   "source": []
  },
  {
   "cell_type": "code",
   "execution_count": null,
   "id": "56b5ac3a-8dfd-4004-8ad5-1d5b8a229165",
   "metadata": {},
   "outputs": [],
   "source": []
  },
  {
   "cell_type": "code",
   "execution_count": null,
   "id": "43685e90-fbe5-4663-8db2-ccde01dee938",
   "metadata": {},
   "outputs": [],
   "source": []
  },
  {
   "cell_type": "code",
   "execution_count": null,
   "id": "adbcd38f-38aa-4af1-8b2a-aa5a9e3e6af6",
   "metadata": {},
   "outputs": [],
   "source": []
  },
  {
   "cell_type": "code",
   "execution_count": null,
   "id": "ddf10d13-4fcf-47a2-b5e5-55a388b27615",
   "metadata": {},
   "outputs": [],
   "source": []
  },
  {
   "cell_type": "code",
   "execution_count": null,
   "id": "3dc71b86-3393-4114-99b5-d98f3e78504b",
   "metadata": {},
   "outputs": [],
   "source": []
  },
  {
   "cell_type": "code",
   "execution_count": null,
   "id": "4dc4abf4-dd20-4caf-b493-7eb8220f2f10",
   "metadata": {},
   "outputs": [],
   "source": []
  },
  {
   "cell_type": "code",
   "execution_count": null,
   "id": "e33b0073-1089-41dc-8772-9a6032b9a1fb",
   "metadata": {},
   "outputs": [],
   "source": []
  },
  {
   "cell_type": "code",
   "execution_count": null,
   "id": "8167d5bd-fa2d-43b6-a7b7-617f6944673d",
   "metadata": {},
   "outputs": [],
   "source": []
  },
  {
   "cell_type": "code",
   "execution_count": null,
   "id": "8d482f7a-a699-4b27-b9ab-86e6564bd020",
   "metadata": {},
   "outputs": [],
   "source": []
  },
  {
   "cell_type": "code",
   "execution_count": null,
   "id": "9849d540-a76d-403b-ac0c-dc8f0663478d",
   "metadata": {},
   "outputs": [],
   "source": []
  },
  {
   "cell_type": "code",
   "execution_count": null,
   "id": "15e7c5d7-b7b6-4627-94ae-1396b1a8790b",
   "metadata": {},
   "outputs": [],
   "source": []
  }
 ],
 "metadata": {
  "kernelspec": {
   "display_name": "Python 3 (ipykernel)",
   "language": "python",
   "name": "python3"
  },
  "language_info": {
   "codemirror_mode": {
    "name": "ipython",
    "version": 3
   },
   "file_extension": ".py",
   "mimetype": "text/x-python",
   "name": "python",
   "nbconvert_exporter": "python",
   "pygments_lexer": "ipython3",
   "version": "3.10.8"
  }
 },
 "nbformat": 4,
 "nbformat_minor": 5
}
