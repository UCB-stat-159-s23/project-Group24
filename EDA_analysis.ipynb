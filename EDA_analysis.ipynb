{
 "cells": [
  {
   "cell_type": "markdown",
   "id": "cce507cf-9909-4d70-bda4-f5d324da5f4d",
   "metadata": {
    "user_expressions": []
   },
   "source": [
    "## COVID-19 US Community Mobility Trends Analysis\n",
    "\n",
    "In this project, we will explore how the COVID-19 pandemic has impacted mobility trends in the United States, including changes in the number of visits to various types of locations (e.g. retail and recreation, grocery stores and pharmacies, parks, transit stations, workplaces, and residential areas).\n"
   ]
  },
  {
   "cell_type": "code",
   "execution_count": 1,
   "id": "2bafda43-dfef-4de6-a7fc-74ad0d40f994",
   "metadata": {},
   "outputs": [],
   "source": [
    "import numpy as np\n",
    "import pandas as pd\n",
    "import matplotlib.pyplot as plt\n",
    "import seaborn as sns"
   ]
  },
  {
   "cell_type": "markdown",
   "id": "5e1e9ec2-eb60-4e12-ae0a-a4f4fb6c92e5",
   "metadata": {
    "user_expressions": []
   },
   "source": [
    "### Load the data"
   ]
  },
  {
   "cell_type": "code",
   "execution_count": 3,
   "id": "08ab0535-6676-4577-931e-8f01abc22ad9",
   "metadata": {},
   "outputs": [],
   "source": [
    "US_2020 = pd.read_csv('data/2020_US_Region_Mobility_Report.csv', low_memory=False)\n",
    "US_2021 = pd.read_csv('data/2021_US_Region_Mobility_Report.csv', low_memory=False)\n",
    "US_2022 = pd.read_csv('data/2022_US_Region_Mobility_Report.csv', low_memory=False)"
   ]
  },
  {
   "cell_type": "markdown",
   "id": "fbec6515-0ac9-409a-aa46-b3a7c1b4f442",
   "metadata": {
    "user_expressions": []
   },
   "source": [
    "Concatenate three dataframes "
   ]
  },
  {
   "cell_type": "code",
   "execution_count": 16,
   "id": "906fabc2-e1bf-4d78-a992-636bf53a71e3",
   "metadata": {},
   "outputs": [
    {
     "data": {
      "text/html": [
       "<div>\n",
       "<style scoped>\n",
       "    .dataframe tbody tr th:only-of-type {\n",
       "        vertical-align: middle;\n",
       "    }\n",
       "\n",
       "    .dataframe tbody tr th {\n",
       "        vertical-align: top;\n",
       "    }\n",
       "\n",
       "    .dataframe thead th {\n",
       "        text-align: right;\n",
       "    }\n",
       "</style>\n",
       "<table border=\"1\" class=\"dataframe\">\n",
       "  <thead>\n",
       "    <tr style=\"text-align: right;\">\n",
       "      <th></th>\n",
       "      <th>country_region_code</th>\n",
       "      <th>country_region</th>\n",
       "      <th>sub_region_1</th>\n",
       "      <th>sub_region_2</th>\n",
       "      <th>metro_area</th>\n",
       "      <th>iso_3166_2_code</th>\n",
       "      <th>census_fips_code</th>\n",
       "      <th>place_id</th>\n",
       "      <th>date</th>\n",
       "      <th>retail_and_recreation_percent_change_from_baseline</th>\n",
       "      <th>grocery_and_pharmacy_percent_change_from_baseline</th>\n",
       "      <th>parks_percent_change_from_baseline</th>\n",
       "      <th>transit_stations_percent_change_from_baseline</th>\n",
       "      <th>workplaces_percent_change_from_baseline</th>\n",
       "      <th>residential_percent_change_from_baseline</th>\n",
       "    </tr>\n",
       "  </thead>\n",
       "  <tbody>\n",
       "    <tr>\n",
       "      <th>66014</th>\n",
       "      <td>US</td>\n",
       "      <td>United States</td>\n",
       "      <td>Colorado</td>\n",
       "      <td>NaN</td>\n",
       "      <td>NaN</td>\n",
       "      <td>US-CO</td>\n",
       "      <td>NaN</td>\n",
       "      <td>ChIJt1YYm3QUQIcR_6eQSTGDVMc</td>\n",
       "      <td>2020-07-27</td>\n",
       "      <td>-7.0</td>\n",
       "      <td>2.0</td>\n",
       "      <td>119.0</td>\n",
       "      <td>-26.0</td>\n",
       "      <td>-37.0</td>\n",
       "      <td>8.0</td>\n",
       "    </tr>\n",
       "    <tr>\n",
       "      <th>324777</th>\n",
       "      <td>US</td>\n",
       "      <td>United States</td>\n",
       "      <td>Florida</td>\n",
       "      <td>Pinellas County</td>\n",
       "      <td>NaN</td>\n",
       "      <td>NaN</td>\n",
       "      <td>12103.0</td>\n",
       "      <td>ChIJmU1R49GXwogREBL8gkBLFZ8</td>\n",
       "      <td>2021-02-21</td>\n",
       "      <td>-14.0</td>\n",
       "      <td>-13.0</td>\n",
       "      <td>52.0</td>\n",
       "      <td>-27.0</td>\n",
       "      <td>-15.0</td>\n",
       "      <td>3.0</td>\n",
       "    </tr>\n",
       "    <tr>\n",
       "      <th>493394</th>\n",
       "      <td>US</td>\n",
       "      <td>United States</td>\n",
       "      <td>Georgia</td>\n",
       "      <td>Ben Hill County</td>\n",
       "      <td>NaN</td>\n",
       "      <td>NaN</td>\n",
       "      <td>13017.0</td>\n",
       "      <td>ChIJAbZPDA7j8YgRFv71ZBzRWdE</td>\n",
       "      <td>2022-03-27</td>\n",
       "      <td>NaN</td>\n",
       "      <td>NaN</td>\n",
       "      <td>NaN</td>\n",
       "      <td>NaN</td>\n",
       "      <td>-32.0</td>\n",
       "      <td>NaN</td>\n",
       "    </tr>\n",
       "    <tr>\n",
       "      <th>399312</th>\n",
       "      <td>US</td>\n",
       "      <td>United States</td>\n",
       "      <td>Alabama</td>\n",
       "      <td>Coffee County</td>\n",
       "      <td>NaN</td>\n",
       "      <td>NaN</td>\n",
       "      <td>1031.0</td>\n",
       "      <td>ChIJY8xZwLgTkogRzT0BJZXvy-A</td>\n",
       "      <td>2022-02-25</td>\n",
       "      <td>0.0</td>\n",
       "      <td>13.0</td>\n",
       "      <td>NaN</td>\n",
       "      <td>NaN</td>\n",
       "      <td>-9.0</td>\n",
       "      <td>1.0</td>\n",
       "    </tr>\n",
       "    <tr>\n",
       "      <th>352521</th>\n",
       "      <td>US</td>\n",
       "      <td>United States</td>\n",
       "      <td>Georgia</td>\n",
       "      <td>Habersham County</td>\n",
       "      <td>NaN</td>\n",
       "      <td>NaN</td>\n",
       "      <td>13137.0</td>\n",
       "      <td>ChIJxZH_pFFIX4gRVY9HP52Y-2A</td>\n",
       "      <td>2021-06-14</td>\n",
       "      <td>9.0</td>\n",
       "      <td>11.0</td>\n",
       "      <td>NaN</td>\n",
       "      <td>NaN</td>\n",
       "      <td>-31.0</td>\n",
       "      <td>5.0</td>\n",
       "    </tr>\n",
       "  </tbody>\n",
       "</table>\n",
       "</div>"
      ],
      "text/plain": [
       "       country_region_code country_region sub_region_1      sub_region_2  \\\n",
       "66014                   US  United States     Colorado               NaN   \n",
       "324777                  US  United States      Florida   Pinellas County   \n",
       "493394                  US  United States      Georgia   Ben Hill County   \n",
       "399312                  US  United States      Alabama     Coffee County   \n",
       "352521                  US  United States      Georgia  Habersham County   \n",
       "\n",
       "        metro_area iso_3166_2_code  census_fips_code  \\\n",
       "66014          NaN           US-CO               NaN   \n",
       "324777         NaN             NaN           12103.0   \n",
       "493394         NaN             NaN           13017.0   \n",
       "399312         NaN             NaN            1031.0   \n",
       "352521         NaN             NaN           13137.0   \n",
       "\n",
       "                           place_id        date  \\\n",
       "66014   ChIJt1YYm3QUQIcR_6eQSTGDVMc  2020-07-27   \n",
       "324777  ChIJmU1R49GXwogREBL8gkBLFZ8  2021-02-21   \n",
       "493394  ChIJAbZPDA7j8YgRFv71ZBzRWdE  2022-03-27   \n",
       "399312  ChIJY8xZwLgTkogRzT0BJZXvy-A  2022-02-25   \n",
       "352521  ChIJxZH_pFFIX4gRVY9HP52Y-2A  2021-06-14   \n",
       "\n",
       "        retail_and_recreation_percent_change_from_baseline  \\\n",
       "66014                                                -7.0    \n",
       "324777                                              -14.0    \n",
       "493394                                                NaN    \n",
       "399312                                                0.0    \n",
       "352521                                                9.0    \n",
       "\n",
       "        grocery_and_pharmacy_percent_change_from_baseline  \\\n",
       "66014                                                 2.0   \n",
       "324777                                              -13.0   \n",
       "493394                                                NaN   \n",
       "399312                                               13.0   \n",
       "352521                                               11.0   \n",
       "\n",
       "        parks_percent_change_from_baseline  \\\n",
       "66014                                119.0   \n",
       "324777                                52.0   \n",
       "493394                                 NaN   \n",
       "399312                                 NaN   \n",
       "352521                                 NaN   \n",
       "\n",
       "        transit_stations_percent_change_from_baseline  \\\n",
       "66014                                           -26.0   \n",
       "324777                                          -27.0   \n",
       "493394                                            NaN   \n",
       "399312                                            NaN   \n",
       "352521                                            NaN   \n",
       "\n",
       "        workplaces_percent_change_from_baseline  \\\n",
       "66014                                     -37.0   \n",
       "324777                                    -15.0   \n",
       "493394                                    -32.0   \n",
       "399312                                     -9.0   \n",
       "352521                                    -31.0   \n",
       "\n",
       "        residential_percent_change_from_baseline  \n",
       "66014                                        8.0  \n",
       "324777                                       3.0  \n",
       "493394                                       NaN  \n",
       "399312                                       1.0  \n",
       "352521                                       5.0  "
      ]
     },
     "execution_count": 16,
     "metadata": {},
     "output_type": "execute_result"
    }
   ],
   "source": [
    "US_Mobility = pd.concat([US_2020, US_2021, US_2022], ignore_index=True)\n",
    "\n",
    "US_Mobility.sample(5)"
   ]
  },
  {
   "cell_type": "code",
   "execution_count": 10,
   "id": "1d7b4e7f-24f1-4be3-a66c-ef0ab84288ea",
   "metadata": {},
   "outputs": [
    {
     "name": "stdout",
     "output_type": "stream",
     "text": [
      "<class 'pandas.core.frame.DataFrame'>\n",
      "RangeIndex: 551057 entries, 0 to 551056\n",
      "Data columns (total 15 columns):\n",
      " #   Column                                              Non-Null Count   Dtype  \n",
      "---  ------                                              --------------   -----  \n",
      " 0   country_region_code                                 551057 non-null  object \n",
      " 1   country_region                                      551057 non-null  object \n",
      " 2   sub_region_1                                        550083 non-null  object \n",
      " 3   sub_region_2                                        536126 non-null  object \n",
      " 4   metro_area                                          0 non-null       float64\n",
      " 5   iso_3166_2_code                                     13957 non-null   object \n",
      " 6   census_fips_code                                    536424 non-null  float64\n",
      " 7   place_id                                            551057 non-null  object \n",
      " 8   date                                                551055 non-null  object \n",
      " 9   retail_and_recreation_percent_change_from_baseline  370893 non-null  float64\n",
      " 10  grocery_and_pharmacy_percent_change_from_baseline   340713 non-null  float64\n",
      " 11  parks_percent_change_from_baseline                  194605 non-null  float64\n",
      " 12  transit_stations_percent_change_from_baseline       236794 non-null  float64\n",
      " 13  workplaces_percent_change_from_baseline             544573 non-null  float64\n",
      " 14  residential_percent_change_from_baseline            330543 non-null  float64\n",
      "dtypes: float64(8), object(7)\n",
      "memory usage: 63.1+ MB\n"
     ]
    }
   ],
   "source": [
    "US_Mobility.info()"
   ]
  },
  {
   "cell_type": "markdown",
   "id": "adad22f8-9d1e-423d-b553-950673db0d67",
   "metadata": {
    "user_expressions": []
   },
   "source": [
    "rename columns and select relevant columns"
   ]
  },
  {
   "cell_type": "code",
   "execution_count": 23,
   "id": "7f15d57c-52db-4e7f-8514-317c5787744d",
   "metadata": {},
   "outputs": [],
   "source": [
    "# rename columns\n",
    "US_Mobility = US_Mobility.rename(columns = {'sub_region_1': 'state',\n",
    "                                            'sub_region_2': 'county',\n",
    "                                            'retail_and_recreation_percent_change_from_baseline': 'retail_and_recreation',\n",
    "                                            'grocery_and_pharmacy_percent_change_from_baseline':'grocery_and_pharmacy',\n",
    "                                            'parks_percent_change_from_baseline':'parks',\n",
    "                                            'transit_stations_percent_change_from_baseline':'transit_stations',\n",
    "                                            'workplaces_percent_change_from_baseline':'workplaces',\n",
    "                                            'residential_percent_change_from_baseline':'residential'} )"
   ]
  },
  {
   "cell_type": "code",
   "execution_count": 30,
   "id": "31e61cc2-73c8-447a-bda3-09a493b44511",
   "metadata": {},
   "outputs": [
    {
     "data": {
      "text/html": [
       "<div>\n",
       "<style scoped>\n",
       "    .dataframe tbody tr th:only-of-type {\n",
       "        vertical-align: middle;\n",
       "    }\n",
       "\n",
       "    .dataframe tbody tr th {\n",
       "        vertical-align: top;\n",
       "    }\n",
       "\n",
       "    .dataframe thead th {\n",
       "        text-align: right;\n",
       "    }\n",
       "</style>\n",
       "<table border=\"1\" class=\"dataframe\">\n",
       "  <thead>\n",
       "    <tr style=\"text-align: right;\">\n",
       "      <th></th>\n",
       "      <th>state</th>\n",
       "      <th>county</th>\n",
       "      <th>date</th>\n",
       "      <th>retail_and_recreation</th>\n",
       "      <th>grocery_and_pharmacy</th>\n",
       "      <th>parks</th>\n",
       "      <th>transit_stations</th>\n",
       "      <th>workplaces</th>\n",
       "      <th>residential</th>\n",
       "    </tr>\n",
       "  </thead>\n",
       "  <tbody>\n",
       "    <tr>\n",
       "      <th>44583</th>\n",
       "      <td>Arkansas</td>\n",
       "      <td>Saline County</td>\n",
       "      <td>2020-08-02</td>\n",
       "      <td>3.0</td>\n",
       "      <td>8.0</td>\n",
       "      <td>NaN</td>\n",
       "      <td>11.0</td>\n",
       "      <td>-12.0</td>\n",
       "      <td>2.0</td>\n",
       "    </tr>\n",
       "    <tr>\n",
       "      <th>521680</th>\n",
       "      <td>Georgia</td>\n",
       "      <td>Rabun County</td>\n",
       "      <td>2022-08-29</td>\n",
       "      <td>NaN</td>\n",
       "      <td>27.0</td>\n",
       "      <td>NaN</td>\n",
       "      <td>NaN</td>\n",
       "      <td>1.0</td>\n",
       "      <td>NaN</td>\n",
       "    </tr>\n",
       "    <tr>\n",
       "      <th>387068</th>\n",
       "      <td>Idaho</td>\n",
       "      <td>Elmore County</td>\n",
       "      <td>2021-10-02</td>\n",
       "      <td>20.0</td>\n",
       "      <td>NaN</td>\n",
       "      <td>NaN</td>\n",
       "      <td>38.0</td>\n",
       "      <td>-19.0</td>\n",
       "      <td>NaN</td>\n",
       "    </tr>\n",
       "    <tr>\n",
       "      <th>239984</th>\n",
       "      <td>Arizona</td>\n",
       "      <td>Santa Cruz County</td>\n",
       "      <td>2021-04-25</td>\n",
       "      <td>-28.0</td>\n",
       "      <td>-31.0</td>\n",
       "      <td>22.0</td>\n",
       "      <td>29.0</td>\n",
       "      <td>-9.0</td>\n",
       "      <td>2.0</td>\n",
       "    </tr>\n",
       "    <tr>\n",
       "      <th>484538</th>\n",
       "      <td>Florida</td>\n",
       "      <td>Monroe County</td>\n",
       "      <td>2022-07-08</td>\n",
       "      <td>-22.0</td>\n",
       "      <td>-10.0</td>\n",
       "      <td>-16.0</td>\n",
       "      <td>-19.0</td>\n",
       "      <td>-25.0</td>\n",
       "      <td>1.0</td>\n",
       "    </tr>\n",
       "  </tbody>\n",
       "</table>\n",
       "</div>"
      ],
      "text/plain": [
       "           state             county        date  retail_and_recreation  \\\n",
       "44583   Arkansas      Saline County  2020-08-02                    3.0   \n",
       "521680   Georgia       Rabun County  2022-08-29                    NaN   \n",
       "387068     Idaho      Elmore County  2021-10-02                   20.0   \n",
       "239984   Arizona  Santa Cruz County  2021-04-25                  -28.0   \n",
       "484538   Florida      Monroe County  2022-07-08                  -22.0   \n",
       "\n",
       "        grocery_and_pharmacy  parks  transit_stations  workplaces  residential  \n",
       "44583                    8.0    NaN              11.0       -12.0          2.0  \n",
       "521680                  27.0    NaN               NaN         1.0          NaN  \n",
       "387068                   NaN    NaN              38.0       -19.0          NaN  \n",
       "239984                 -31.0   22.0              29.0        -9.0          2.0  \n",
       "484538                 -10.0  -16.0             -19.0       -25.0          1.0  "
      ]
     },
     "execution_count": 30,
     "metadata": {},
     "output_type": "execute_result"
    }
   ],
   "source": [
    "columns = ['state',\n",
    "           'county',\n",
    "           'date',\n",
    "           'retail_and_recreation', \n",
    "           'grocery_and_pharmacy', \n",
    "           'parks',\n",
    "           'transit_stations', \n",
    "           'workplaces', \n",
    "           'residential']\n",
    "US_Mobility = US_Mobility[columns]\n",
    "\n",
    "US_Mobility.sample(5)"
   ]
  },
  {
   "cell_type": "code",
   "execution_count": 38,
   "id": "2caeec7d-aa7d-44b1-84f5-490262591a98",
   "metadata": {},
   "outputs": [
    {
     "data": {
      "text/plain": [
       "0         2020-02\n",
       "1         2020-02\n",
       "2         2020-02\n",
       "3         2020-02\n",
       "4         2020-02\n",
       "           ...   \n",
       "551052    2022-03\n",
       "551053    2022-03\n",
       "551054    2022-03\n",
       "551055    2022-03\n",
       "551056    2022-03\n",
       "Name: year-month, Length: 551057, dtype: object"
      ]
     },
     "execution_count": 38,
     "metadata": {},
     "output_type": "execute_result"
    }
   ],
   "source": [
    "US_Mobility['year-month'] = US_Mobility['date'].str.rsplit('-', n=1, expand=True).drop(columns=1, axis=1)\n",
    "US_Mobility['year-month']"
   ]
  },
  {
   "cell_type": "markdown",
   "id": "57d2f7e7-8849-413b-9d6e-2ea01f867176",
   "metadata": {
    "user_expressions": []
   },
   "source": [
    "### Grocery & pharmacy\n",
    "\n",
    "Explore the mobility trends for places like grocery markets, food warehouses, farmers markets, specialty food shops, drug stores, and pharmacies."
   ]
  },
  {
   "cell_type": "code",
   "execution_count": null,
   "id": "edc3e71f-2438-43d5-9917-06b5ce3cad74",
   "metadata": {},
   "outputs": [],
   "source": []
  },
  {
   "cell_type": "code",
   "execution_count": null,
   "id": "3755936e-2594-4204-ac0d-392b2b34ab5a",
   "metadata": {},
   "outputs": [],
   "source": []
  },
  {
   "cell_type": "markdown",
   "id": "ba9b2e23-206a-426d-906e-9a136aa730bc",
   "metadata": {
    "user_expressions": []
   },
   "source": [
    "### Parks\n",
    "Explore the mobility trends for places like local parks, national parks, public beaches, marinas, dog parks, plazas, and public gardens."
   ]
  },
  {
   "cell_type": "markdown",
   "id": "8ceacb27-fd2e-408a-8655-9ffbfb7bb44e",
   "metadata": {
    "user_expressions": []
   },
   "source": [
    "### Transit stations\n",
    "Explore the mobility trends for places like public transport hubs such as subway, bus, and train stations."
   ]
  },
  {
   "cell_type": "markdown",
   "id": "4aa23bb4-488a-4e57-90b4-ac83d5937f76",
   "metadata": {
    "user_expressions": []
   },
   "source": [
    "### Retail & recreation\n",
    "Explore the mobility trends for places like restaurants, cafes, shopping centers, theme parks, museums, libraries, and movie theaters."
   ]
  },
  {
   "cell_type": "markdown",
   "id": "b81693b1-0dae-4f08-ac3a-52081dced32b",
   "metadata": {
    "user_expressions": []
   },
   "source": [
    "### Residential\n",
    "Explore the mobility trends for places of residence."
   ]
  },
  {
   "cell_type": "markdown",
   "id": "28afe001-0087-4d41-a80f-f9008b2482e6",
   "metadata": {
    "user_expressions": []
   },
   "source": [
    "### Workplaces\n",
    "Explore the mobility trends for places of work."
   ]
  },
  {
   "cell_type": "code",
   "execution_count": null,
   "id": "67da88d6-979c-4f3d-bc83-164fef31abb5",
   "metadata": {},
   "outputs": [],
   "source": []
  },
  {
   "cell_type": "code",
   "execution_count": null,
   "id": "7f0f8c12-0449-4b4e-98fd-84bd9a18bd96",
   "metadata": {},
   "outputs": [],
   "source": []
  },
  {
   "cell_type": "code",
   "execution_count": null,
   "id": "1376d968-9df2-4d36-908b-2bc367f2b7d6",
   "metadata": {},
   "outputs": [],
   "source": []
  },
  {
   "cell_type": "code",
   "execution_count": null,
   "id": "0592707e-2ab7-443a-8bb1-940fb340bc6e",
   "metadata": {},
   "outputs": [],
   "source": []
  },
  {
   "cell_type": "code",
   "execution_count": null,
   "id": "66988ade-7841-4f8f-88e9-fc570a56596d",
   "metadata": {},
   "outputs": [],
   "source": []
  },
  {
   "cell_type": "code",
   "execution_count": null,
   "id": "38279270-7aa6-4709-8888-73f7da0ddde1",
   "metadata": {},
   "outputs": [],
   "source": []
  },
  {
   "cell_type": "code",
   "execution_count": null,
   "id": "7918061e-8980-4f48-bf41-add06c98bcd2",
   "metadata": {},
   "outputs": [],
   "source": []
  },
  {
   "cell_type": "code",
   "execution_count": null,
   "id": "305b92cc-9a2d-456a-a746-ffecd25d086a",
   "metadata": {},
   "outputs": [],
   "source": []
  },
  {
   "cell_type": "code",
   "execution_count": null,
   "id": "56b5ac3a-8dfd-4004-8ad5-1d5b8a229165",
   "metadata": {},
   "outputs": [],
   "source": []
  },
  {
   "cell_type": "code",
   "execution_count": null,
   "id": "43685e90-fbe5-4663-8db2-ccde01dee938",
   "metadata": {},
   "outputs": [],
   "source": []
  },
  {
   "cell_type": "code",
   "execution_count": null,
   "id": "adbcd38f-38aa-4af1-8b2a-aa5a9e3e6af6",
   "metadata": {},
   "outputs": [],
   "source": []
  },
  {
   "cell_type": "code",
   "execution_count": null,
   "id": "ddf10d13-4fcf-47a2-b5e5-55a388b27615",
   "metadata": {},
   "outputs": [],
   "source": []
  },
  {
   "cell_type": "code",
   "execution_count": null,
   "id": "3dc71b86-3393-4114-99b5-d98f3e78504b",
   "metadata": {},
   "outputs": [],
   "source": []
  },
  {
   "cell_type": "code",
   "execution_count": null,
   "id": "4dc4abf4-dd20-4caf-b493-7eb8220f2f10",
   "metadata": {},
   "outputs": [],
   "source": []
  },
  {
   "cell_type": "code",
   "execution_count": null,
   "id": "e33b0073-1089-41dc-8772-9a6032b9a1fb",
   "metadata": {},
   "outputs": [],
   "source": []
  },
  {
   "cell_type": "code",
   "execution_count": null,
   "id": "8167d5bd-fa2d-43b6-a7b7-617f6944673d",
   "metadata": {},
   "outputs": [],
   "source": []
  },
  {
   "cell_type": "code",
   "execution_count": null,
   "id": "8d482f7a-a699-4b27-b9ab-86e6564bd020",
   "metadata": {},
   "outputs": [],
   "source": []
  },
  {
   "cell_type": "code",
   "execution_count": null,
   "id": "9849d540-a76d-403b-ac0c-dc8f0663478d",
   "metadata": {},
   "outputs": [],
   "source": []
  },
  {
   "cell_type": "code",
   "execution_count": null,
   "id": "15e7c5d7-b7b6-4627-94ae-1396b1a8790b",
   "metadata": {},
   "outputs": [],
   "source": []
  }
 ],
 "metadata": {
  "kernelspec": {
   "display_name": "Python 3 (ipykernel)",
   "language": "python",
   "name": "python3"
  },
  "language_info": {
   "codemirror_mode": {
    "name": "ipython",
    "version": 3
   },
   "file_extension": ".py",
   "mimetype": "text/x-python",
   "name": "python",
   "nbconvert_exporter": "python",
   "pygments_lexer": "ipython3",
   "version": "3.10.8"
  }
 },
 "nbformat": 4,
 "nbformat_minor": 5
}
