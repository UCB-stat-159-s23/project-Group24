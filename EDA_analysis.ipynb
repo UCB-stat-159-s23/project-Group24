{
 "cells": [
  {
   "cell_type": "markdown",
   "id": "cce507cf-9909-4d70-bda4-f5d324da5f4d",
   "metadata": {
    "user_expressions": []
   },
   "source": [
    "# COVID-19 US Community Mobility Trends Analysis"
   ]
  },
  {
   "cell_type": "code",
   "execution_count": 1,
   "id": "2bafda43-dfef-4de6-a7fc-74ad0d40f994",
   "metadata": {},
   "outputs": [],
   "source": [
    "import numpy as np\n",
    "import pandas as pd\n",
    "import matplotlib.pyplot as plt\n",
    "import seaborn as sns"
   ]
  },
  {
   "cell_type": "code",
   "execution_count": null,
   "id": "af6af519-01dd-4810-bc2b-142594648d0d",
   "metadata": {},
   "outputs": [],
   "source": []
  }
 ],
 "metadata": {
  "kernelspec": {
   "display_name": "Python 3 (ipykernel)",
   "language": "python",
   "name": "python3"
  },
  "language_info": {
   "codemirror_mode": {
    "name": "ipython",
    "version": 3
   },
   "file_extension": ".py",
   "mimetype": "text/x-python",
   "name": "python",
   "nbconvert_exporter": "python",
   "pygments_lexer": "ipython3",
   "version": "3.10.8"
  }
 },
 "nbformat": 4,
 "nbformat_minor": 5
}
